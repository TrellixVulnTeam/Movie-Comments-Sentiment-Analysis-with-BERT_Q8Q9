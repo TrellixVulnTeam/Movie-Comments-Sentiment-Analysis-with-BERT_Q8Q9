{
 "cells": [
  {
   "cell_type": "code",
   "execution_count": 11,
   "metadata": {
    "colab": {
     "base_uri": "https://localhost:8080/",
     "height": 485
    },
    "executionInfo": {
     "elapsed": 3238,
     "status": "error",
     "timestamp": 1640160017997,
     "user": {
      "displayName": "shengyan luo",
      "photoUrl": "https://lh3.googleusercontent.com/a/default-user=s64",
      "userId": "10923670785510074317"
     },
     "user_tz": -480
    },
    "id": "qnZjvhZJ9GhC",
    "outputId": "88715563-753a-4866-a6a3-4080fa5a88f8"
   },
   "outputs": [
    {
     "ename": "IndentationError",
     "evalue": "unindent does not match any outer indentation level (<tokenize>, line 81)",
     "output_type": "error",
     "traceback": [
      "\u001b[1;36m  File \u001b[1;32m\"<tokenize>\"\u001b[1;36m, line \u001b[1;32m81\u001b[0m\n\u001b[1;33m    print(prediction_model('要知道劇中裡的這些要素真的很不容易，也謝謝漫威和索尼讓我從小看到大'))\u001b[0m\n\u001b[1;37m    ^\u001b[0m\n\u001b[1;31mIndentationError\u001b[0m\u001b[1;31m:\u001b[0m unindent does not match any outer indentation level\n"
     ]
    }
   ],
   "source": [
    "#for testing\n",
    "#!pip install pytorch_pretrained_bert\n",
    "import os\n",
    "\n",
    "import torch\n",
    "import torch.nn as nn\n",
    "from pytorch_pretrained_bert import BertModel, BertTokenizer\n",
    "\n",
    "# 识别的类型\n",
    "key = {   0: '0',\n",
    "       1: '1',\n",
    "       2: '2',\n",
    "       3: '3',\n",
    "       4: '4',\n",
    "       5: '5'\n",
    "       }\n",
    "\n",
    "\n",
    "class Config:\n",
    "    \"\"\"配置参数\"\"\"\n",
    "\n",
    "    def __init__(self):\n",
    "        cru = './'\n",
    "        self.class_list = [str(i) for i in range(len(key))]  # 類別名單\n",
    "        self.save_path = './THUCNews/saved_dict/bert.ckpt'\n",
    "        self.device = torch.device('cpu')\n",
    "        self.require_improvement = 1000  # 如果超過1000 epoch 效果無提升，提前結束訓練 \n",
    "        self.num_classes = len(self.class_list)  # 類別數\n",
    "        self.num_epochs = 3  # epoch\n",
    "        self.batch_size = 128  # mini-batch大小\n",
    "        self.pad_size = 32  # 每句話的長句（長切短補）\n",
    "        self.learning_rate = 5e-5  # 學習率\n",
    "        self.bert_path = './bert_pretrain'\n",
    "        self.tokenizer = BertTokenizer.from_pretrained(self.bert_path)\n",
    "        self.hidden_size = 768\n",
    "\n",
    "    def build_dataset(self, text):\n",
    "        lin = text.strip()\n",
    "        pad_size = len(lin)\n",
    "        token = self.tokenizer.tokenize(lin)\n",
    "        token = ['[CLS]'] + token\n",
    "        token_ids = self.tokenizer.convert_tokens_to_ids(token)\n",
    "        mask = [1] * pad_size\n",
    "        token_ids = token_ids[:pad_size]\n",
    "        return torch.tensor([token_ids], dtype=torch.long), torch.tensor([mask])\n",
    "\n",
    "\n",
    "class Model(nn.Module):\n",
    "\n",
    "    def __init__(self, config):\n",
    "        super(Model, self).__init__()\n",
    "        self.bert = BertModel.from_pretrained(config.bert_path)\n",
    "        for param in self.bert.parameters():\n",
    "            param.requires_grad = True\n",
    "        self.fc = nn.Linear(config.hidden_size, config.num_classes)\n",
    "\n",
    "    def forward(self, x):\n",
    "        context = x[0]\n",
    "        mask = x[1]\n",
    "        _, pooled = self.bert(context, attention_mask=mask, output_all_encoded_layers=False)\n",
    "        out = self.fc(pooled)\n",
    "        return out\n",
    "\n",
    "\n",
    "config = Config()\n",
    "model = Model(config).to(config.device)\n",
    "model.load_state_dict(torch.load(config.save_path, map_location='cpu'))\n",
    "\n",
    "\n",
    "def prediction_model(text):\n",
    "\n",
    "    data = config.build_dataset(text)\n",
    "    with torch.no_grad():\n",
    "        outputs = model(data)\n",
    "        num = torch.argmax(outputs)\n",
    "    return key[int(num)]\n",
    "\n",
    "\n",
    "if __name__ == '__main__':\n",
    "        \"\"\"輸入一句話預測\"\"\"\n",
    "    print(prediction_model('要知道劇中裡的這些要素真的很不容易，也謝謝漫威和索尼讓我從小看到大'))"
   ]
  },
  {
   "cell_type": "code",
   "execution_count": 9,
   "metadata": {},
   "outputs": [
    {
     "name": "stdout",
     "output_type": "stream",
     "text": [
      "5\n"
     ]
    }
   ],
   "source": [
    "print(prediction_model('要知道劇中裡的這些要素真的很不容易，也謝謝漫威和索尼讓我從小看到大'))"
   ]
  },
  {
   "cell_type": "code",
   "execution_count": null,
   "metadata": {},
   "outputs": [],
   "source": []
  }
 ],
 "metadata": {
  "colab": {
   "name": "bertmodel_predict.ipynb",
   "provenance": []
  },
  "kernelspec": {
   "display_name": "Python 3",
   "language": "python",
   "name": "python3"
  },
  "language_info": {
   "codemirror_mode": {
    "name": "ipython",
    "version": 3
   },
   "file_extension": ".py",
   "mimetype": "text/x-python",
   "name": "python",
   "nbconvert_exporter": "python",
   "pygments_lexer": "ipython3",
   "version": "3.8.8"
  }
 },
 "nbformat": 4,
 "nbformat_minor": 1
}
